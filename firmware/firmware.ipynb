{
 "cells": [
  {
   "cell_type": "markdown",
   "metadata": {},
   "source": [
    "### firmware.ipynb\n",
    "\n",
    "firmware h4x - migrating discord efforts via python ports assuming reference firmware downloaded/unzipped into `~/Downloads`"
   ]
  },
  {
   "cell_type": "code",
   "execution_count": 1,
   "metadata": {},
   "outputs": [],
   "source": [
    "import re, os, glob"
   ]
  },
  {
   "cell_type": "code",
   "execution_count": 2,
   "metadata": {},
   "outputs": [
    {
     "data": {
      "text/plain": [
       "('/Users/dirkleas', '/Users/dirkleas/Downloads/sp404mk2_sys_v302')"
      ]
     },
     "execution_count": 2,
     "metadata": {},
     "output_type": "execute_result"
    }
   ],
   "source": [
    "homedir = os.path.expanduser('~')\n",
    "firmware = f'{homedir}/Downloads/sp404mk2_sys_v302'\n",
    "homedir, firmware"
   ]
  },
  {
   "cell_type": "markdown",
   "metadata": {},
   "source": [
    "This command was run as an initial search for anything that looked like files:\n",
    "\n",
    "```\n",
    "❯ perl -ne '/(\\.\\.\\/[A-Za-z].*?)\\x00/ && print $1 . \"\\n\"' SP404MKII_APP1.bin\n",
    "../source/sampler/if/smpl_os_if.cpp\n",
    "../RT1062_Device/fsl_clock.h\n",
    "../source/sys\\es_board.h\n",
    "../source/seq/seq_stream.cpp\n",
    "../RT1062_Device/fsl_clock.h\n",
    "../source/sampler/task/smpl_task.cpp\n",
    "../source/main/main.cpp\n",
    "../source/sampler/charge/smpl_charge.cpp\n",
    "../source/sampler/prm/smpl_prm.cpp\n",
    "../source/sampler/tk/CTKTempoDet.cpp\n",
    "../source/sampler/smpl_file_system_wrapper.cpp\n",
    "../source/sampler/xmlParser.cpp\n",
    "../source/sys/msg_container_queue.cpp\n",
    "../source/sai/fsl_sai.c\n",
    "../source/usb/cdc_tsk/usb_cdc_tsk.cpp\n",
    "../source/panel/hmi/xtest/tsk_cpy_svd.h\n",
    "```"
   ]
  },
  {
   "cell_type": "code",
   "execution_count": 3,
   "metadata": {},
   "outputs": [
    {
     "name": "stdout",
     "output_type": "stream",
     "text": [
      "../source/sampler/if/smpl_os_if.cpp\n",
      "../RT1062_Device/fsl_clock.h\n",
      "../source/sys\\es_board.h\n",
      "../source/seq/seq_stream.cpp\n",
      "../RT1062_Device/fsl_clock.h\n",
      "../source/sampler/task/smpl_task.cpp\n",
      "../source/main/main.cpp\n",
      "../source/sampler/charge/smpl_charge.cpp\n",
      "../source/sampler/prm/smpl_prm.cpp\n",
      "../source/sampler/tk/CTKTempoDet.cpp\n",
      "../source/sampler/smpl_file_system_wrapper.cpp\n",
      "../source/sampler/xmlParser.cpp\n",
      "../source/sys/msg_container_queue.cpp\n",
      "../source/sai/fsl_sai.c\n",
      "../source/usb/cdc_tsk/usb_cdc_tsk.cpp\n",
      "../source/panel/hmi/xtest/tsk_cpy_svd.h\n"
     ]
    }
   ],
   "source": [
    "for line in open(f'{firmware}/SP404MKII_APP1.bin', 'rb'):\n",
    "    match = re.search(b'(\\.\\.\\/[A-Za-z].*?)\\x00', line)\n",
    "    if match:\n",
    "        print(match.group(1).decode('utf-8'))"
   ]
  },
  {
   "cell_type": "markdown",
   "metadata": {},
   "source": [
    "compared to the file sizes of the bin files:\n",
    "\n",
    "```\n",
    "❯ ls -al *.bin\n",
    "-rwxrwxrwx@ 1 gregsterling  staff  2359296 May 12 09:26 SP404MKII_APP0.bin\n",
    "-rwxrwxrwx@ 1 gregsterling  staff  2410481 May 24 19:04 SP404MKII_APP1.bin\n",
    "```"
   ]
  },
  {
   "cell_type": "code",
   "execution_count": 4,
   "metadata": {},
   "outputs": [
    {
     "name": "stdout",
     "output_type": "stream",
     "text": [
      "/Users/dirkleas/Downloads/sp404mk2_sys_v302/SP404MKII_APP0.bin 2,359,296\n",
      "/Users/dirkleas/Downloads/sp404mk2_sys_v302/SP404MKII_APP1.bin 2,410,480\n"
     ]
    }
   ],
   "source": [
    "for file in glob.glob(f'{firmware}/*.bin'):\n",
    "    print(f'{file} {os.path.getsize(file):,}')"
   ]
  },
  {
   "cell_type": "markdown",
   "metadata": {},
   "source": [
    "\n",
    "--\n",
    "\n",
    "This project is licensed under the terms of the MIT license. See [LICENSE](LICENSE) for details."
   ]
  }
 ],
 "metadata": {
  "kernelspec": {
   "display_name": "miditoyz",
   "language": "python",
   "name": "python3"
  },
  "language_info": {
   "codemirror_mode": {
    "name": "ipython",
    "version": 3
   },
   "file_extension": ".py",
   "mimetype": "text/x-python",
   "name": "python",
   "nbconvert_exporter": "python",
   "pygments_lexer": "ipython3",
   "version": "3.11.4"
  },
  "orig_nbformat": 4
 },
 "nbformat": 4,
 "nbformat_minor": 2
}
